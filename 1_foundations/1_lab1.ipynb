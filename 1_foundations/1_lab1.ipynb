{
 "cells": [
  {
   "cell_type": "markdown",
   "metadata": {},
   "source": [
    "# Welcome to the start of your adventure in Agentic AI"
   ]
  },
  {
   "cell_type": "markdown",
   "metadata": {},
   "source": [
    "<table style=\"margin: 0; text-align: left; width:100%\">\n",
    "    <tr>\n",
    "        <td style=\"width: 150px; height: 150px; vertical-align: middle;\">\n",
    "            <img src=\"../assets/stop.png\" width=\"150\" height=\"150\" style=\"display: block;\" />\n",
    "        </td>\n",
    "        <td>\n",
    "            <h2 style=\"color:#ff7800;\">Are you ready for action??</h2>\n",
    "            <span style=\"color:#ff7800;\">Have you completed all the setup steps in the <a href=\"../setup/\">setup</a> folder?<br/>\n",
    "            Have you read the <a href=\"../README.md\">README</a>? Many common questions are answered here!<br/>\n",
    "            Have you checked out the guides in the <a href=\"../guides/01_intro.ipynb\">guides</a> folder?<br/>\n",
    "            Well in that case, you're ready!!\n",
    "            </span>\n",
    "        </td>\n",
    "    </tr>\n",
    "</table>"
   ]
  },
  {
   "cell_type": "markdown",
   "metadata": {},
   "source": [
    "<table style=\"margin: 0; text-align: left; width:100%\">\n",
    "    <tr>\n",
    "        <td style=\"width: 150px; height: 150px; vertical-align: middle;\">\n",
    "            <img src=\"../assets/tools.png\" width=\"150\" height=\"150\" style=\"display: block;\" />\n",
    "        </td>\n",
    "        <td>\n",
    "            <h2 style=\"color:#00bfff;\">This code is a live resource - keep an eye out for my updates</h2>\n",
    "            <span style=\"color:#00bfff;\">I push updates regularly. As people ask questions or have problems, I add more examples and improve explanations. As a result, the code below might not be identical to the videos, as I've added more steps and better comments. Consider this like an interactive book that accompanies the lectures.<br/><br/>\n",
    "            I try to send emails regularly with important updates related to the course. You can find this in the 'Announcements' section of Udemy in the left sidebar. You can also choose to receive my emails via your Notification Settings in Udemy. I'm respectful of your inbox and always try to add value with my emails!\n",
    "            </span>\n",
    "        </td>\n",
    "    </tr>\n",
    "</table>"
   ]
  },
  {
   "cell_type": "markdown",
   "metadata": {},
   "source": [
    "### And please do remember to contact me if I can help\n",
    "\n",
    "And I love to connect: https://www.linkedin.com/in/eddonner/\n",
    "\n",
    "\n",
    "### New to Notebooks like this one? Head over to the guides folder!\n",
    "\n",
    "Just to check you've already added the Python and Jupyter extensions to Cursor, if not already installed:\n",
    "- Open extensions (View >> extensions)\n",
    "- Search for python, and when the results show, click on the ms-python one, and Install it if not already installed\n",
    "- Search for jupyter, and when the results show, click on the Microsoft one, and Install it if not already installed  \n",
    "Then View >> Explorer to bring back the File Explorer.\n",
    "\n",
    "And then:\n",
    "1. Click where it says \"Select Kernel\" near the top right, and select the option called `.venv (Python 3.12.9)` or similar, which should be the first choice or the most prominent choice. You may need to choose \"Python Environments\" first.\n",
    "2. Click in each \"cell\" below, starting with the cell immediately below this text, and press Shift+Enter to run\n",
    "3. Enjoy!\n",
    "\n",
    "After you click \"Select Kernel\", if there is no option like `.venv (Python 3.12.9)` then please do the following:  \n",
    "1. On Mac: From the Cursor menu, choose Settings >> VS Code Settings (NOTE: be sure to select `VSCode Settings` not `Cursor Settings`);  \n",
    "On Windows PC: From the File menu, choose Preferences >> VS Code Settings(NOTE: be sure to select `VSCode Settings` not `Cursor Settings`)  \n",
    "2. In the Settings search bar, type \"venv\"  \n",
    "3. In the field \"Path to folder with a list of Virtual Environments\" put the path to the project root, like C:\\Users\\username\\projects\\agents (on a Windows PC) or /Users/username/projects/agents (on Mac or Linux).  \n",
    "And then try again.\n",
    "\n",
    "Having problems with missing Python versions in that list? Have you ever used Anaconda before? It might be interferring. Quit Cursor, bring up a new command line, and make sure that your Anaconda environment is deactivated:    \n",
    "`conda deactivate`  \n",
    "And if you still have any problems with conda and python versions, it's possible that you will need to run this too:  \n",
    "`conda config --set auto_activate_base false`  \n",
    "and then from within the Agents directory, you should be able to run `uv python list` and see the Python 3.12 version."
   ]
  },
  {
   "cell_type": "code",
   "execution_count": 1,
   "metadata": {},
   "outputs": [],
   "source": [
    "# First let's do an import. If you get an Import Error, double check that your Kernel is correct..\n",
    "\n",
    "from dotenv import load_dotenv\n"
   ]
  },
  {
   "cell_type": "code",
   "execution_count": 2,
   "metadata": {},
   "outputs": [
    {
     "data": {
      "text/plain": [
       "True"
      ]
     },
     "execution_count": 2,
     "metadata": {},
     "output_type": "execute_result"
    }
   ],
   "source": [
    "# Next it's time to load the API keys into environment variables\n",
    "# If this returns false, see the next cell!\n",
    "\n",
    "load_dotenv(override=True)"
   ]
  },
  {
   "cell_type": "markdown",
   "metadata": {},
   "source": [
    "### Wait, did that just output `False`??\n",
    "\n",
    "If so, the most common reason is that you didn't save your `.env` file after adding the key! Be sure to have saved.\n",
    "\n",
    "Also, make sure the `.env` file is named precisely `.env` and is in the project root directory (`agents`)\n",
    "\n",
    "By the way, your `.env` file should have a stop symbol next to it in Cursor on the left, and that's actually a good thing: that's Cursor saying to you, \"hey, I realize this is a file filled with secret information, and I'm not going to send it to an external AI to suggest changes, because your keys should not be shown to anyone else.\""
   ]
  },
  {
   "cell_type": "markdown",
   "metadata": {},
   "source": [
    "<table style=\"margin: 0; text-align: left; width:100%\">\n",
    "    <tr>\n",
    "        <td style=\"width: 150px; height: 150px; vertical-align: middle;\">\n",
    "            <img src=\"../assets/stop.png\" width=\"150\" height=\"150\" style=\"display: block;\" />\n",
    "        </td>\n",
    "        <td>\n",
    "            <h2 style=\"color:#ff7800;\">Final reminders</h2>\n",
    "            <span style=\"color:#ff7800;\">1. If you're not confident about Environment Variables or Web Endpoints / APIs, please read Topics 3 and 5 in this <a href=\"../guides/04_technical_foundations.ipynb\">technical foundations guide</a>.<br/>\n",
    "            2. If you want to use AIs other than OpenAI, like Gemini, DeepSeek or Ollama (free), please see the first section in this <a href=\"../guides/09_ai_apis_and_ollama.ipynb\">AI APIs guide</a>.<br/>\n",
    "            3. If you ever get a Name Error in Python, you can always fix it immediately; see the last section of this <a href=\"../guides/06_python_foundations.ipynb\">Python Foundations guide</a> and follow both tutorials and exercises.<br/>\n",
    "            </span>\n",
    "        </td>\n",
    "    </tr>\n",
    "</table>"
   ]
  },
  {
   "cell_type": "code",
   "execution_count": 3,
   "metadata": {},
   "outputs": [
    {
     "name": "stdout",
     "output_type": "stream",
     "text": [
      "OpenAI API Key exists and begins 6447NW1J\n"
     ]
    }
   ],
   "source": [
    "# Check the key - if you're not using OpenAI, check whichever key you're using! Ollama doesn't need a key.\n",
    "\n",
    "import os\n",
    "openai_api_key = os.getenv('OPENAI_API_KEY')\n",
    "\n",
    "if openai_api_key:\n",
    "    print(f\"OpenAI API Key exists and begins {openai_api_key[:8]}\")\n",
    "else:\n",
    "    print(\"OpenAI API Key not set - please head to the troubleshooting guide in the setup folder\")\n",
    "    \n"
   ]
  },
  {
   "cell_type": "code",
   "execution_count": 4,
   "metadata": {},
   "outputs": [],
   "source": [
    "# And now - the all important import statement\n",
    "# If you get an import error - head over to troubleshooting in the Setup folder\n",
    "# Even for other LLM providers like Gemini, you still use this OpenAI import - see Guide 9 for why\n",
    "\n",
    "from openai import AzureOpenAI"
   ]
  },
  {
   "cell_type": "code",
   "execution_count": 5,
   "metadata": {},
   "outputs": [],
   "source": [
    "# And now we'll create an instance of the OpenAI class\n",
    "# If you're not sure what it means to create an instance of a class - head over to the guides folder (guide 6)!\n",
    "# If you get a NameError - head over to the guides folder (guide 6)to learn about NameErrors - always instantly fixable\n",
    "# If you're not using OpenAI, you just need to slightly modify this - precise instructions are in the AI APIs guide (guide 9)\n",
    "\n",
    "# openai = OpenAI()\n",
    "openai = AzureOpenAI(\n",
    "    api_version=\"2024-12-01-preview\",\n",
    "    azure_endpoint=\"https://ai-foundry-omnia-facts.cognitiveservices.azure.com/\",\n",
    "    api_key=openai_api_key,\n",
    ")"
   ]
  },
  {
   "cell_type": "code",
   "execution_count": 6,
   "metadata": {},
   "outputs": [],
   "source": [
    "# Create a list of messages in the familiar OpenAI format\n",
    "\n",
    "messages = [{\"role\": \"user\", \"content\": \"What is 2+2?\"}]"
   ]
  },
  {
   "cell_type": "code",
   "execution_count": 7,
   "metadata": {},
   "outputs": [
    {
     "name": "stdout",
     "output_type": "stream",
     "text": [
      "2 + 2 equals 4.\n"
     ]
    }
   ],
   "source": [
    "# And now call it! Any problems, head to the troubleshooting guide\n",
    "# This uses GPT 4.1 nano, the incredibly cheap model\n",
    "# The APIs guide (guide 9) has exact instructions for using even cheaper or free alternatives to OpenAI\n",
    "# If you get a NameError, head to the guides folder (guide 6) to learn about NameErrors - always instantly fixable\n",
    "\n",
    "response = openai.chat.completions.create(\n",
    "    model=\"gpt-4.1-nano\",\n",
    "    messages=messages\n",
    ")\n",
    "\n",
    "print(response.choices[0].message.content)\n"
   ]
  },
  {
   "cell_type": "code",
   "execution_count": 8,
   "metadata": {},
   "outputs": [],
   "source": [
    "# And now - let's ask for a question:\n",
    "\n",
    "question = \"Please propose a hard, challenging question to assess someone's IQ. Respond only with the question.\"\n",
    "messages = [{\"role\": \"user\", \"content\": question}]\n"
   ]
  },
  {
   "cell_type": "code",
   "execution_count": 9,
   "metadata": {},
   "outputs": [
    {
     "name": "stdout",
     "output_type": "stream",
     "text": [
      "A train leaves a station traveling at a speed of 60 miles per hour. Another train leaves the same station 30 minutes later, traveling at a speed of 90 miles per hour. At what distance from the station will the two trains meet?\n"
     ]
    }
   ],
   "source": [
    "# ask it - this uses GPT 4.1 mini, still cheap but more powerful than nano\n",
    "\n",
    "response = openai.chat.completions.create(\n",
    "    model=\"gpt-4o-mini\",\n",
    "    messages=messages\n",
    ")\n",
    "\n",
    "question = response.choices[0].message.content\n",
    "\n",
    "print(question)\n"
   ]
  },
  {
   "cell_type": "code",
   "execution_count": 10,
   "metadata": {},
   "outputs": [],
   "source": [
    "# form a new messages list\n",
    "messages = [{\"role\": \"user\", \"content\": question}]\n"
   ]
  },
  {
   "cell_type": "code",
   "execution_count": 11,
   "metadata": {},
   "outputs": [
    {
     "name": "stdout",
     "output_type": "stream",
     "text": [
      "To find the distance from the station where the two trains meet, we start by determining the time each train has traveled by the time they meet.\n",
      "\n",
      "First, let’s denote:\n",
      "- The time the first train (Train A) travels as \\( t \\) hours.\n",
      "- The time the second train (Train B) travels is \\( t - 0.5 \\) hours since it leaves 30 minutes (or 0.5 hours) later.\n",
      "\n",
      "### Distance Traveled by Each Train\n",
      "\n",
      "1. **Distance traveled by Train A**:\n",
      "   \\[\n",
      "   \\text{Distance}_A = \\text{Speed}_A \\times \\text{Time}_A = 60t\n",
      "   \\]\n",
      "\n",
      "2. **Distance traveled by Train B**:\n",
      "   \\[\n",
      "   \\text{Distance}_B = \\text{Speed}_B \\times \\text{Time}_B = 90(t - 0.5)\n",
      "   \\]\n",
      "\n",
      "### Setting Distances Equal\n",
      "\n",
      "Since both trains meet at the same point, we can set the two distances equal:\n",
      "\\[\n",
      "60t = 90(t - 0.5)\n",
      "\\]\n",
      "\n",
      "### Solving for \\( t \\)\n",
      "\n",
      "Expanding the right side:\n",
      "\\[\n",
      "60t = 90t - 45\n",
      "\\]\n",
      "\n",
      "Now, we can rearrange this equation to solve for \\( t \\):\n",
      "\\[\n",
      "60t - 90t = -45\n",
      "\\]\n",
      "\\[\n",
      "-30t = -45\n",
      "\\]\n",
      "\\[\n",
      "t = \\frac{45}{30} = 1.5 \\text{ hours}\n",
      "\\]\n",
      "\n",
      "### Finding the Distance from the Station\n",
      "\n",
      "Now we can calculate the distance traveled by either train to find where they meet. We can use Train A's traveled distance:\n",
      "\\[\n",
      "\\text{Distance} = 60t = 60 \\times 1.5 = 90 \\text{ miles}\n",
      "\\]\n",
      "\n",
      "### Conclusion\n",
      "\n",
      "Thus, the two trains will meet at a distance of \\( \\boxed{90} \\) miles from the station.\n"
     ]
    }
   ],
   "source": [
    "# Ask it again\n",
    "\n",
    "response = openai.chat.completions.create(\n",
    "    model=\"gpt-4o-mini\",\n",
    "    messages=messages\n",
    ")\n",
    "\n",
    "answer = response.choices[0].message.content\n",
    "print(answer)\n"
   ]
  },
  {
   "cell_type": "code",
   "execution_count": 12,
   "metadata": {},
   "outputs": [
    {
     "data": {
      "text/markdown": [
       "To find the distance from the station where the two trains meet, we start by determining the time each train has traveled by the time they meet.\n",
       "\n",
       "First, let’s denote:\n",
       "- The time the first train (Train A) travels as \\( t \\) hours.\n",
       "- The time the second train (Train B) travels is \\( t - 0.5 \\) hours since it leaves 30 minutes (or 0.5 hours) later.\n",
       "\n",
       "### Distance Traveled by Each Train\n",
       "\n",
       "1. **Distance traveled by Train A**:\n",
       "   \\[\n",
       "   \\text{Distance}_A = \\text{Speed}_A \\times \\text{Time}_A = 60t\n",
       "   \\]\n",
       "\n",
       "2. **Distance traveled by Train B**:\n",
       "   \\[\n",
       "   \\text{Distance}_B = \\text{Speed}_B \\times \\text{Time}_B = 90(t - 0.5)\n",
       "   \\]\n",
       "\n",
       "### Setting Distances Equal\n",
       "\n",
       "Since both trains meet at the same point, we can set the two distances equal:\n",
       "\\[\n",
       "60t = 90(t - 0.5)\n",
       "\\]\n",
       "\n",
       "### Solving for \\( t \\)\n",
       "\n",
       "Expanding the right side:\n",
       "\\[\n",
       "60t = 90t - 45\n",
       "\\]\n",
       "\n",
       "Now, we can rearrange this equation to solve for \\( t \\):\n",
       "\\[\n",
       "60t - 90t = -45\n",
       "\\]\n",
       "\\[\n",
       "-30t = -45\n",
       "\\]\n",
       "\\[\n",
       "t = \\frac{45}{30} = 1.5 \\text{ hours}\n",
       "\\]\n",
       "\n",
       "### Finding the Distance from the Station\n",
       "\n",
       "Now we can calculate the distance traveled by either train to find where they meet. We can use Train A's traveled distance:\n",
       "\\[\n",
       "\\text{Distance} = 60t = 60 \\times 1.5 = 90 \\text{ miles}\n",
       "\\]\n",
       "\n",
       "### Conclusion\n",
       "\n",
       "Thus, the two trains will meet at a distance of \\( \\boxed{90} \\) miles from the station."
      ],
      "text/plain": [
       "<IPython.core.display.Markdown object>"
      ]
     },
     "metadata": {},
     "output_type": "display_data"
    }
   ],
   "source": [
    "from IPython.display import Markdown, display\n",
    "\n",
    "display(Markdown(answer))\n",
    "\n"
   ]
  },
  {
   "cell_type": "markdown",
   "metadata": {},
   "source": [
    "# Congratulations!\n",
    "\n",
    "That was a small, simple step in the direction of Agentic AI, with your new environment!\n",
    "\n",
    "Next time things get more interesting..."
   ]
  },
  {
   "cell_type": "markdown",
   "metadata": {},
   "source": [
    "<table style=\"margin: 0; text-align: left; width:100%\">\n",
    "    <tr>\n",
    "        <td style=\"width: 150px; height: 150px; vertical-align: middle;\">\n",
    "            <img src=\"../assets/exercise.png\" width=\"150\" height=\"150\" style=\"display: block;\" />\n",
    "        </td>\n",
    "        <td>\n",
    "            <h2 style=\"color:#ff7800;\">Exercise</h2>\n",
    "            <span style=\"color:#ff7800;\">Now try this commercial application:<br/>\n",
    "            First ask the LLM to pick a business area that might be worth exploring for an Agentic AI opportunity.<br/>\n",
    "            Then ask the LLM to present a pain-point in that industry - something challenging that might be ripe for an Agentic solution.<br/>\n",
    "            Finally have 3 third LLM call propose the Agentic AI solution. <br/>\n",
    "            We will cover this at up-coming labs, so don't worry if you're unsure.. just give it a try!\n",
    "            </span>\n",
    "        </td>\n",
    "    </tr>\n",
    "</table>"
   ]
  },
  {
   "cell_type": "code",
   "execution_count": 13,
   "metadata": {},
   "outputs": [
    {
     "name": "stdout",
     "output_type": "stream",
     "text": [
      "One promising business area for exploring agentic AI opportunities is **personalized healthcare**. This field is rapidly evolving with advancements in technology and is poised for significant improvement through the integration of AI.\n",
      "\n",
      "### Key Opportunities in Personalized Healthcare:\n",
      "\n",
      "1. **AI-Powered Diagnosis and Treatment:**\n",
      "   - Develop AI systems that analyze patient data, including genetic information, medical history, and lifestyle factors, to provide personalized diagnosis and treatment recommendations. This can lead to more accurate and effective healthcare outcomes.\n",
      "\n",
      "2. **Remote Patient Monitoring:**\n",
      "   - Implement AI agents that monitor patients' vital signs and health data in real-time, providing early warnings of potential health issues and enabling timely interventions. This is especially valuable for chronic disease management.\n",
      "\n",
      "3. **Medication Management:**\n",
      "   - Create an AI tool that analyzes a patient’s health data and medication schedules, offering personalized reminders and alerts related to medication adherence, potential drug interactions, and optimal dosing.\n",
      "\n",
      "4. **Mental Health Support:**\n",
      "   - Develop AI chatbots or virtual therapists that provide mental health support, offering personalized coping strategies, therapy sessions, or crisis intervention based on individual patient needs.\n",
      "\n",
      "5. **Health Behavior Coaching:**\n",
      "   - Use agentic AI to offer personalized health coaching and lifestyle modification strategies based on individual behavioral data, preferences, and goals, helping individuals make lasting changes.\n",
      "\n",
      "6. **Clinical Trial Matching:**\n",
      "   - Implement AI systems that match patients with appropriate clinical trials based on their unique characteristics and medical history, improving research outcomes and patient experiences.\n",
      "\n",
      "7. **Predictive Analytics for Disease Prevention:**\n",
      "   - Develop AI algorithms that predict the risk of diseases based on patient data, lifestyle factors, and environmental influences, enabling proactive management and preventive care strategies.\n",
      "\n",
      "### Why Personalized Healthcare?\n",
      "\n",
      "- **Growing Demand:** As patients increasingly seek tailored healthcare solutions, there is a significant market for personalized approaches that enhance patient engagement and satisfaction.\n",
      "- **Data Availability:** The explosion of health data, from electronic health records to wearable devices, provides rich resources for AI to analyze and derive insights.\n",
      "- **Regulatory Support:** Governments and healthcare organizations are increasingly supporting innovative approaches to healthcare delivery, including AI technologies.\n",
      "\n",
      "### Conclusion\n",
      "\n",
      "Exploring agentic AI in personalized healthcare has the potential not only to meet a crucial market need but also to revolutionize how healthcare is administered, making it more efficient, effective, and patient-centered.\n",
      "One promising agentic AI solution in the realm of personalized healthcare is the development of an **AI-Powered Personalized Health Assistant (AI-PHA)**. This solution could integrate multiple functionalities discussed previously, creating a comprehensive, user-friendly platform tailored to individual patient needs. Here’s a breakdown of how this solution could work and its key features:\n",
      "\n",
      "### AI-Powered Personalized Health Assistant (AI-PHA)\n",
      "\n",
      "#### Overview:\n",
      "The AI-PHA would serve as a virtual health assistant that leverages advanced machine learning algorithms and user data to provide personalized health support, guidance, and insights. It can be accessed via a mobile app or web platform and would ensure patient engagement through constant interaction.\n",
      "\n",
      "#### Key Features:\n",
      "\n",
      "1. **Personalized Health Dashboard:**\n",
      "   - A user-friendly interface where patients can view their health data, including vital signs, medication schedules, upcoming appointments, and overall health insights derived from their personal data.\n",
      "\n",
      "2. **Smart Symptom Checker:**\n",
      "   - Utilizing natural language processing (NLP), AI-PHA could interpret patient-reported symptoms and provide preliminary assessments, guiding users toward appropriate care paths.\n",
      "\n",
      "3. **Custom Treatment Plans:**\n",
      "   - Drawing from patient history, genetic data, and lifestyle factors, the AI would generate tailored treatment plans and recommendations, which can be continuously refined based on patient feedback and new data.\n",
      "\n",
      "4. **Real-Time Remote Monitoring:**\n",
      "   - Integrating with wearable devices (e.g., smartwatches) to track real-time health metrics (heart rate, physical activity, sleep patterns), the AI could alert users to anomalies requiring medical attention or suggest strategies to improve health.\n",
      "\n",
      "5. **Medication Management:**\n",
      "   - Automated reminders for medication adherence, coupled with alerts for potential interactions or contraindications based on the user’s profile, can help improve compliance and safety.\n",
      "\n",
      "6. **Mental Health and Wellness Support:**\n",
      "   - Offering virtual therapy sessions or chat support for mental health, where users can interact with AI-powered chatbots that provide evidence-based coping strategies, relaxation techniques, and wellness tips.\n",
      "\n",
      "7. **Personalized Health Coaching:**\n",
      "   - An AI-driven coaching module would set health goals, offer tailored lifestyle advice, provide motivational feedback, and track progress in diet, exercise, and overall wellness.\n",
      "\n",
      "8. **Clinical Trial Discovery:**\n",
      "   - A feature to match users with relevant clinical trials based on their health profile and preferences helps facilitate access to cutting-edge treatment options.\n",
      "\n",
      "9. **Predictive Health Analytics:**\n",
      "   - Utilization of machine learning algorithms to predict potential health risks or disease developments based on the user’s data, facilitating early intervention and preventive care strategies.\n",
      "\n",
      "10. **Data Privacy and Security:**\n",
      "    - Ensuring robust data protection measures, including encryption, user consent protocols, and privacy controls, to build trust and comply with healthcare regulations like HIPAA or GDPR.\n",
      "\n",
      "### Benefits:\n",
      "\n",
      "- **Enhanced Patient Engagement:** The assistant maintains constant interaction, empowering patients with knowledge and tools to manage their health actively.\n",
      "- **Improved Outcomes:** Personalized recommendations and continuous monitoring lead to better adherence to treatment protocols and health behavior changes.\n",
      "- **Efficient Resource Utilization:** By predicting health issues before they escalate, resources can be allocated effectively, improving overall healthcare system efficiency.\n",
      "- **Scalability:** As an AI-driven solution, it can be adapted for various populations with diverse health needs, expanding its reach and impact.\n",
      "\n",
      "### Conclusion:\n",
      "\n",
      "The AI-Powered Personalized Health Assistant (AI-PHA) exemplifies a multifaceted approach to leveraging agentic AI in personalized healthcare. By integrating various functionalities tailored to the unique needs of patients, it has the potential to revolutionize health management, improve outcomes, and enhance overall patient experience.\n"
     ]
    }
   ],
   "source": [
    "# First create the messages:\n",
    "\n",
    "messages = [{\"role\": \"user\", \"content\": \"Pick a business area that might be worth exploring for an agentic ai opportunity\"}]\n",
    "\n",
    "# Then make the first call:\n",
    "\n",
    "response = openai.chat.completions.create(\n",
    "    model=\"gpt-4o-mini\",\n",
    "    messages=messages\n",
    ")\n",
    "\n",
    "# Then read the business idea:\n",
    "\n",
    "business_idea = response.choices[0].message.content\n",
    "print(business_idea)\n",
    "\n",
    "# And repeat! In the next message, include the business idea within the message\n",
    "messages = [\n",
    "    {\"role\": \"user\", \"content\": business_idea},\n",
    "    {\"role\": \"user\", \"content\": \"What could be a good agentic ai solution for this?\"}\n",
    "]\n",
    "\n",
    "response = openai.chat.completions.create(\n",
    "    model=\"gpt-4o-mini\",\n",
    "    messages=messages\n",
    ")\n",
    "\n",
    "solution = response.choices[0].message.content\n",
    "print(solution)\n"
   ]
  },
  {
   "cell_type": "markdown",
   "metadata": {},
   "source": []
  }
 ],
 "metadata": {
  "kernelspec": {
   "display_name": ".venv",
   "language": "python",
   "name": "python3"
  },
  "language_info": {
   "codemirror_mode": {
    "name": "ipython",
    "version": 3
   },
   "file_extension": ".py",
   "mimetype": "text/x-python",
   "name": "python",
   "nbconvert_exporter": "python",
   "pygments_lexer": "ipython3",
   "version": "3.13.7"
  }
 },
 "nbformat": 4,
 "nbformat_minor": 2
}
